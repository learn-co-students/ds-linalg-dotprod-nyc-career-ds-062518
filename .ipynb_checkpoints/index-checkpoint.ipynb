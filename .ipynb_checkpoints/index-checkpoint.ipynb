{
 "cells": [
  {
   "cell_type": "markdown",
   "metadata": {},
   "source": [
    "## Dot Product\n",
    "\n",
    "The dot product is a crucial mathematical operation that we'll be using in many algorithms going forward.  \n",
    "It is defined as the sum of the products of the corresponding elements of two vectors.  \n",
    "\n",
    "Mathematically:  \n",
    "$ a = [a_1, a_2,...a_n]$  \n",
    "$ b = [b_1, b_2,...b_n]$  \n",
    "   \n",
    "$ a \\bullet b = \\sum_{i=1}^{n} a_ib_i + a_2b_2 + ... + a_nb_n$"
   ]
  },
  {
   "cell_type": "code",
   "execution_count": 1,
   "metadata": {},
   "outputs": [
    {
     "name": "stdout",
     "output_type": "stream",
     "text": [
      "a : [0 1 2 3 4]\n",
      "b : [5 6 7 8 9]\n"
     ]
    }
   ],
   "source": [
    "import numpy as np\n",
    "a = np.array(range(5))\n",
    "b = np.array(range(5,10))\n",
    "print('a :', a)\n",
    "print('b :', b)"
   ]
  },
  {
   "cell_type": "markdown",
   "metadata": {},
   "source": [
    "### 1. Write a function to calculate the dot product."
   ]
  },
  {
   "cell_type": "code",
   "execution_count": 15,
   "metadata": {},
   "outputs": [
    {
     "data": {
      "text/plain": [
       "80"
      ]
     },
     "execution_count": 15,
     "metadata": {},
     "output_type": "execute_result"
    }
   ],
   "source": [
    "def dot_product(a,b):\n",
    "    dp=0\n",
    "    for c in range(len(a)):\n",
    "        dp += a[c]*b[c]\n",
    "    return dp\n",
    "\n",
    "## alt method: return sum(a*b)\n",
    "\n",
    "np.dot(a,b) #80\n",
    "dot_product(a,b) #80"
   ]
  },
  {
   "cell_type": "markdown",
   "metadata": {},
   "source": [
    "### 2. Dot Product 2\n",
    "Great! The dot product of a and b can also be calculated by:\n",
    "\n",
    "$a\\bullet b = a^Tb$ \n",
    "\n",
    "Recall that $a^T$ is the transpose of a.\n",
    "\n",
    "Write a second function that calculates the dot product of a and b using this alternative calculation."
   ]
  },
  {
   "cell_type": "code",
   "execution_count": 17,
   "metadata": {},
   "outputs": [
    {
     "data": {
      "text/plain": [
       "80"
      ]
     },
     "execution_count": 17,
     "metadata": {},
     "output_type": "execute_result"
    }
   ],
   "source": [
    "def dot_product2(a,b):\n",
    "    return np.matmul(a.T,b)\n",
    "\n",
    "dot_product2(a,b)#80"
   ]
  },
  {
   "cell_type": "markdown",
   "metadata": {},
   "source": [
    "### Polynomial Functions\n",
    "Soon, we're going to expand our simple linear regression into the more generalized linear regression involving multiple variables. Instead of looking at the Gross Domestic Sales of a movie in terms of its budget alone, we'll consider more variables such as ratings and reviews to improve our predictions. \n",
    "\n",
    "When doing this, we will have a matrix of data where each column is a specific feature such as the budget, or the imdb review score, while each row will be an observance, one of the movies in our dataset.\n",
    "\n",
    "$x_1\\bullet w_1 + x_2\\bullet w_2 + x_3\\bullet w_3 + ... = y$\n",
    "\n",
    "For example"
   ]
  },
  {
   "cell_type": "code",
   "execution_count": 18,
   "metadata": {},
   "outputs": [
    {
     "data": {
      "text/html": [
       "<div>\n",
       "<style scoped>\n",
       "    .dataframe tbody tr th:only-of-type {\n",
       "        vertical-align: middle;\n",
       "    }\n",
       "\n",
       "    .dataframe tbody tr th {\n",
       "        vertical-align: top;\n",
       "    }\n",
       "\n",
       "    .dataframe thead th {\n",
       "        text-align: right;\n",
       "    }\n",
       "</style>\n",
       "<table border=\"1\" class=\"dataframe\">\n",
       "  <thead>\n",
       "    <tr style=\"text-align: right;\">\n",
       "      <th></th>\n",
       "      <th>budget</th>\n",
       "      <th>imdbRating</th>\n",
       "      <th>Metascore</th>\n",
       "      <th>imdbVotes</th>\n",
       "    </tr>\n",
       "  </thead>\n",
       "  <tbody>\n",
       "    <tr>\n",
       "      <th>0</th>\n",
       "      <td>13000000</td>\n",
       "      <td>6.8</td>\n",
       "      <td>48</td>\n",
       "      <td>206513</td>\n",
       "    </tr>\n",
       "    <tr>\n",
       "      <th>1</th>\n",
       "      <td>45658735</td>\n",
       "      <td>0.0</td>\n",
       "      <td>0</td>\n",
       "      <td>0</td>\n",
       "    </tr>\n",
       "    <tr>\n",
       "      <th>2</th>\n",
       "      <td>20000000</td>\n",
       "      <td>8.1</td>\n",
       "      <td>96</td>\n",
       "      <td>537525</td>\n",
       "    </tr>\n",
       "    <tr>\n",
       "      <th>3</th>\n",
       "      <td>61000000</td>\n",
       "      <td>6.7</td>\n",
       "      <td>55</td>\n",
       "      <td>173726</td>\n",
       "    </tr>\n",
       "    <tr>\n",
       "      <th>4</th>\n",
       "      <td>40000000</td>\n",
       "      <td>7.5</td>\n",
       "      <td>62</td>\n",
       "      <td>74170</td>\n",
       "    </tr>\n",
       "  </tbody>\n",
       "</table>\n",
       "</div>"
      ],
      "text/plain": [
       "     budget  imdbRating  Metascore  imdbVotes\n",
       "0  13000000         6.8         48     206513\n",
       "1  45658735         0.0          0          0\n",
       "2  20000000         8.1         96     537525\n",
       "3  61000000         6.7         55     173726\n",
       "4  40000000         7.5         62      74170"
      ]
     },
     "execution_count": 18,
     "metadata": {},
     "output_type": "execute_result"
    }
   ],
   "source": [
    "import pandas as pd\n",
    "x = pd.read_excel('movie_data_detailed_with_ols.xlsx')\n",
    "x = x[['budget', 'imdbRating','Metascore', 'imdbVotes']]\n",
    "x.head()"
   ]
  },
  {
   "cell_type": "code",
   "execution_count": 14,
   "metadata": {},
   "outputs": [
    {
     "data": {
      "text/plain": [
       "array([[1.3000000e+07, 6.8000000e+00, 4.8000000e+01, 2.0651300e+05],\n",
       "       [4.5658735e+07, 0.0000000e+00, 0.0000000e+00, 0.0000000e+00],\n",
       "       [2.0000000e+07, 8.1000000e+00, 9.6000000e+01, 5.3752500e+05],\n",
       "       [6.1000000e+07, 6.7000000e+00, 5.5000000e+01, 1.7372600e+05],\n",
       "       [4.0000000e+07, 7.5000000e+00, 6.2000000e+01, 7.4170000e+04],\n",
       "       [2.2500000e+08, 6.3000000e+00, 2.8000000e+01, 1.2876600e+05],\n",
       "       [9.2000000e+07, 5.3000000e+00, 2.8000000e+01, 1.8058500e+05],\n",
       "       [1.2000000e+07, 7.8000000e+00, 5.5000000e+01, 2.4008700e+05],\n",
       "       [1.3000000e+07, 5.7000000e+00, 4.8000000e+01, 3.0576000e+04],\n",
       "       [1.3000000e+08, 4.9000000e+00, 3.3000000e+01, 1.7436500e+05],\n",
       "       [4.0000000e+07, 7.3000000e+00, 9.0000000e+01, 3.9839000e+05],\n",
       "       [2.5000000e+07, 7.2000000e+00, 5.8000000e+01, 7.5884000e+04],\n",
       "       [5.0000000e+07, 6.2000000e+00, 5.2000000e+01, 7.6001000e+04],\n",
       "       [1.8000000e+07, 7.3000000e+00, 7.8000000e+01, 1.7098600e+05],\n",
       "       [5.5000000e+07, 7.8000000e+00, 8.3000000e+01, 3.6824400e+05],\n",
       "       [3.0000000e+07, 7.4000000e+00, 8.5000000e+01, 1.4232800e+05],\n",
       "       [7.8000000e+07, 6.4000000e+00, 5.9000000e+01, 7.5138000e+04],\n",
       "       [7.6000000e+07, 7.4000000e+00, 6.2000000e+01, 3.2466400e+05],\n",
       "       [5.5000000e+06, 6.6000000e+00, 6.6000000e+01, 2.0894800e+05],\n",
       "       [1.2000000e+08, 6.6000000e+00, 6.1000000e+01, 3.7813100e+05],\n",
       "       [1.1000000e+08, 0.0000000e+00, 0.0000000e+00, 0.0000000e+00],\n",
       "       [1.0000000e+08, 6.7000000e+00, 5.2000000e+01, 9.2389000e+04],\n",
       "       [4.0000000e+07, 5.9000000e+00, 3.5000000e+01, 2.2430000e+04],\n",
       "       [7.0000000e+07, 6.7000000e+00, 4.9000000e+01, 1.9876700e+05],\n",
       "       [1.7000000e+07, 6.5000000e+00, 5.7000000e+01, 1.3994000e+05],\n",
       "       [1.6000000e+08, 0.0000000e+00, 0.0000000e+00, 0.0000000e+00],\n",
       "       [1.5000000e+08, 7.5000000e+00, 7.4000000e+01, 4.8355500e+05],\n",
       "       [1.4000000e+08, 5.8000000e+00, 4.1000000e+01, 1.5821000e+05],\n",
       "       [6.0000000e+07, 6.7000000e+00, 4.0000000e+01, 1.8884600e+05],\n",
       "       [3.0000000e+07, 7.1000000e+00, 0.0000000e+00, 0.0000000e+00]])"
      ]
     },
     "execution_count": 14,
     "metadata": {},
     "output_type": "execute_result"
    }
   ],
   "source": [
    "x = np.array(x)\n",
    "x"
   ]
  },
  {
   "cell_type": "markdown",
   "metadata": {},
   "source": [
    "### 3. Write a function that predicts a vector of model predictions $\\hat{y}$ given a matrix of data x, and a vector of coefficient weights w.   \n",
    "Mathematically:   \n",
    "$x_1\\bullet w_1 + x_2\\bullet w_2 + x_3\\bullet w_3 + ... = y$"
   ]
  },
  {
   "cell_type": "code",
   "execution_count": 21,
   "metadata": {},
   "outputs": [],
   "source": [
    "def poly_regress_predict(x,w):\n",
    "    y_hat = np.dot(x,w)\n",
    "    return y_hat"
   ]
  },
  {
   "cell_type": "code",
   "execution_count": 26,
   "metadata": {},
   "outputs": [
    {
     "data": {
      "text/plain": [
       "array([[5.2000000e+07, 2.7200000e+01, 1.9200000e+02, 8.2605200e+05],\n",
       "       [1.8263494e+08, 0.0000000e+00, 0.0000000e+00, 0.0000000e+00],\n",
       "       [8.0000000e+07, 3.2400000e+01, 3.8400000e+02, 2.1501000e+06],\n",
       "       [2.4400000e+08, 2.6800000e+01, 2.2000000e+02, 6.9490400e+05],\n",
       "       [1.6000000e+08, 3.0000000e+01, 2.4800000e+02, 2.9668000e+05],\n",
       "       [9.0000000e+08, 2.5200000e+01, 1.1200000e+02, 5.1506400e+05],\n",
       "       [3.6800000e+08, 2.1200000e+01, 1.1200000e+02, 7.2234000e+05],\n",
       "       [4.8000000e+07, 3.1200000e+01, 2.2000000e+02, 9.6034800e+05],\n",
       "       [5.2000000e+07, 2.2800000e+01, 1.9200000e+02, 1.2230400e+05],\n",
       "       [5.2000000e+08, 1.9600000e+01, 1.3200000e+02, 6.9746000e+05],\n",
       "       [1.6000000e+08, 2.9200000e+01, 3.6000000e+02, 1.5935600e+06],\n",
       "       [1.0000000e+08, 2.8800000e+01, 2.3200000e+02, 3.0353600e+05],\n",
       "       [2.0000000e+08, 2.4800000e+01, 2.0800000e+02, 3.0400400e+05],\n",
       "       [7.2000000e+07, 2.9200000e+01, 3.1200000e+02, 6.8394400e+05],\n",
       "       [2.2000000e+08, 3.1200000e+01, 3.3200000e+02, 1.4729760e+06],\n",
       "       [1.2000000e+08, 2.9600000e+01, 3.4000000e+02, 5.6931200e+05],\n",
       "       [3.1200000e+08, 2.5600000e+01, 2.3600000e+02, 3.0055200e+05],\n",
       "       [3.0400000e+08, 2.9600000e+01, 2.4800000e+02, 1.2986560e+06],\n",
       "       [2.2000000e+07, 2.6400000e+01, 2.6400000e+02, 8.3579200e+05],\n",
       "       [4.8000000e+08, 2.6400000e+01, 2.4400000e+02, 1.5125240e+06],\n",
       "       [4.4000000e+08, 0.0000000e+00, 0.0000000e+00, 0.0000000e+00],\n",
       "       [4.0000000e+08, 2.6800000e+01, 2.0800000e+02, 3.6955600e+05],\n",
       "       [1.6000000e+08, 2.3600000e+01, 1.4000000e+02, 8.9720000e+04],\n",
       "       [2.8000000e+08, 2.6800000e+01, 1.9600000e+02, 7.9506800e+05],\n",
       "       [6.8000000e+07, 2.6000000e+01, 2.2800000e+02, 5.5976000e+05],\n",
       "       [6.4000000e+08, 0.0000000e+00, 0.0000000e+00, 0.0000000e+00],\n",
       "       [6.0000000e+08, 3.0000000e+01, 2.9600000e+02, 1.9342200e+06],\n",
       "       [5.6000000e+08, 2.3200000e+01, 1.6400000e+02, 6.3284000e+05],\n",
       "       [2.4000000e+08, 2.6800000e+01, 1.6000000e+02, 7.5538400e+05],\n",
       "       [1.2000000e+08, 2.8400000e+01, 0.0000000e+00, 0.0000000e+00]])"
      ]
     },
     "execution_count": 26,
     "metadata": {},
     "output_type": "execute_result"
    }
   ],
   "source": [
    "poly_regress_predict(x,4)"
   ]
  },
  {
   "cell_type": "code",
   "execution_count": null,
   "metadata": {},
   "outputs": [],
   "source": []
  }
 ],
 "metadata": {
  "kernelspec": {
   "display_name": "Python 3",
   "language": "python",
   "name": "python3"
  },
  "language_info": {
   "codemirror_mode": {
    "name": "ipython",
    "version": 3
   },
   "file_extension": ".py",
   "mimetype": "text/x-python",
   "name": "python",
   "nbconvert_exporter": "python",
   "pygments_lexer": "ipython3",
   "version": "3.6.5"
  }
 },
 "nbformat": 4,
 "nbformat_minor": 2
}
